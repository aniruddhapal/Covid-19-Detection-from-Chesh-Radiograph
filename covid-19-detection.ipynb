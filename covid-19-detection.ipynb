{
 "cells": [
  {
   "cell_type": "markdown",
   "metadata": {},
   "source": [
    "# Problem description\n",
    "\n",
    "Five times more deadly than the flu, COVID-19 causes significant morbidity and mortality. Like other pneumonias, pulmonary infection with COVID-19 results in inflammation and fluid in the lungs. COVID-19 looks very similar to other viral and bacterial pneumonias on chest radiographs, which makes it difficult to diagnose. This computer vision model for detection and localization of COVID-19 would help doctors provide a quick and confident diagnosis. As a result, patients could get the right treatment before the most severe effects of the virus take hold.\n",
    "\n",
    "\n",
    "Currently, COVID-19 can be diagnosed via polymerase chain reaction to detect genetic material from the virus or chest radiograph. However, it can take a few hours and sometimes days before the molecular test results are back. By contrast, chest radiographs can be obtained in minutes. While guidelines exist to help radiologists differentiate COVID-19 from other types of infection, their assessments vary. In addition, non-radiologists could be supported with better localization of the disease, such as with a visual bounding box.\n",
    "\n",
    "\n",
    "In this competition, the task is to identify and localize COVID-19 abnormalities on chest radiographs. In particular, categorization of the radiographs as negative for pneumonia or typical, indeterminate, or atypical for COVID-19."
   ]
  },
  {
   "cell_type": "markdown",
   "metadata": {},
   "source": [
    "**Categorization of the radiographs:**\n",
    "\n",
    "* NEGATIVE FOR PNEUMONIA - No lung opacities\n",
    "\n",
    "* TYPICAL APPEARANCE - Multifocal bilateral, peripheral opacities with rounded morphology, lower lung–predominant distribution\n",
    "\n",
    "* INDETERMINATE APPEARANCE - Absence of typical findings AND unilateral, central or upper lung predominant distribution\n",
    "\n",
    "* ATYPICAL APPEARANCE - Pneumothorax, pleural effusion, pulmonary edema, lobar consolidation, solitary lung nodule or mass, diffuse tiny nodules, cavity"
   ]
  },
  {
   "cell_type": "markdown",
   "metadata": {},
   "source": [
    "**Input data:**\n",
    "\n",
    "* train_study_level.csv - the train study-level metadata, with one row for each study, including correct labels.\n",
    "* train_image_level.csv - the train image-level metadata, with one row for each image, including both correct labels and any bounding boxes in a dictionary format. Some images in both test and train have multiple bounding boxes.\n",
    "* sample_submission.csv - a sample submission file containing all image- and study-level IDs.\n",
    "* train folder - comprises 6334 chest scans in DICOM format, stored in paths with the form study/series/image\n",
    "* test folder - The hidden test dataset is of roughly the same scale as the training dataset. Studies in the test set may contain more than one label."
   ]
  },
  {
   "cell_type": "markdown",
   "metadata": {},
   "source": [
    "# Content table\n",
    "\n",
    "1. Importing the libraries\n",
    "2. Importing the datasets\n",
    "3. Data exploration\n",
    "4. Read Dicom files\n",
    "5. Feature engineering\n",
    "6. References"
   ]
  },
  {
   "cell_type": "markdown",
   "metadata": {},
   "source": [
    "# Importing the libraries"
   ]
  },
  {
   "cell_type": "code",
   "execution_count": null,
   "metadata": {
    "_kg_hide-input": true,
    "_kg_hide-output": true,
    "execution": {
     "iopub.execute_input": "2021-06-11T14:29:33.24266Z",
     "iopub.status.busy": "2021-06-11T14:29:33.242098Z",
     "iopub.status.idle": "2021-06-11T14:29:33.2574Z",
     "shell.execute_reply": "2021-06-11T14:29:33.256088Z",
     "shell.execute_reply.started": "2021-06-11T14:29:33.242615Z"
    }
   },
   "outputs": [],
   "source": [
    "import numpy as np\n",
    "import pandas as pd\n",
    "import matplotlib\n",
    "import matplotlib.pyplot as plt\n",
    "import seaborn as sn\n",
    "import pydicom as dicom # Dicom (Digital Imaging in Medicine) - medical image datasets, storage and transfer\n",
    "import os\n",
    "from tqdm import tqdm # allows you to output a smart progress bar by wrapping around any iterable\n",
    "import glob # retrieve files/pathnames matching a specified pattern\n",
    "import pprint # pretty-print” arbitrary Python data structures\n",
    "import ast # \n",
    "from pydicom.pixel_data_handlers.util import apply_voi_lut #\n",
    "import wandb #\n",
    "from tensorflow.keras.applications import EfficientNetB0\n",
    "\n",
    "pd.set_option('display.max_columns', 500)"
   ]
  },
  {
   "cell_type": "markdown",
   "metadata": {},
   "source": [
    "# Importing the datasets"
   ]
  },
  {
   "cell_type": "code",
   "execution_count": null,
   "metadata": {
    "execution": {
     "iopub.execute_input": "2021-06-11T13:59:11.122472Z",
     "iopub.status.busy": "2021-06-11T13:59:11.122168Z",
     "iopub.status.idle": "2021-06-11T13:59:11.163961Z",
     "shell.execute_reply": "2021-06-11T13:59:11.162883Z",
     "shell.execute_reply.started": "2021-06-11T13:59:11.122446Z"
    }
   },
   "outputs": [],
   "source": [
    "path = '/kaggle/input/siim-covid19-detection/'\n",
    "train_image_level = pd.read_csv(path + \"train_image_level.csv\")\n",
    "train_study_level = pd.read_csv(path + \"train_study_level.csv\")"
   ]
  },
  {
   "cell_type": "markdown",
   "metadata": {},
   "source": [
    "# Data exploration"
   ]
  },
  {
   "cell_type": "markdown",
   "metadata": {},
   "source": [
    "Let's have a look inside the train_image_level."
   ]
  },
  {
   "cell_type": "code",
   "execution_count": null,
   "metadata": {
    "execution": {
     "iopub.execute_input": "2021-06-11T13:59:11.166508Z",
     "iopub.status.busy": "2021-06-11T13:59:11.165935Z",
     "iopub.status.idle": "2021-06-11T13:59:11.179715Z",
     "shell.execute_reply": "2021-06-11T13:59:11.178441Z",
     "shell.execute_reply.started": "2021-06-11T13:59:11.166453Z"
    }
   },
   "outputs": [],
   "source": [
    "train_image_level.head()"
   ]
  },
  {
   "cell_type": "code",
   "execution_count": null,
   "metadata": {
    "execution": {
     "iopub.execute_input": "2021-06-11T13:59:11.191993Z",
     "iopub.status.busy": "2021-06-11T13:59:11.191691Z",
     "iopub.status.idle": "2021-06-11T13:59:11.248181Z",
     "shell.execute_reply": "2021-06-11T13:59:11.247195Z",
     "shell.execute_reply.started": "2021-06-11T13:59:11.191964Z"
    }
   },
   "outputs": [],
   "source": [
    "train_image_level.describe()"
   ]
  },
  {
   "cell_type": "markdown",
   "metadata": {},
   "source": [
    "There are 6334 unique values in the train_image_level dataframe."
   ]
  },
  {
   "cell_type": "code",
   "execution_count": null,
   "metadata": {
    "execution": {
     "iopub.execute_input": "2021-06-11T13:59:11.250138Z",
     "iopub.status.busy": "2021-06-11T13:59:11.249755Z",
     "iopub.status.idle": "2021-06-11T13:59:11.262295Z",
     "shell.execute_reply": "2021-06-11T13:59:11.26077Z",
     "shell.execute_reply.started": "2021-06-11T13:59:11.2501Z"
    }
   },
   "outputs": [],
   "source": [
    "train_study_level.head()"
   ]
  },
  {
   "cell_type": "code",
   "execution_count": null,
   "metadata": {
    "execution": {
     "iopub.execute_input": "2021-06-11T13:59:11.279852Z",
     "iopub.status.busy": "2021-06-11T13:59:11.279571Z",
     "iopub.status.idle": "2021-06-11T13:59:11.310477Z",
     "shell.execute_reply": "2021-06-11T13:59:11.309188Z",
     "shell.execute_reply.started": "2021-06-11T13:59:11.279826Z"
    }
   },
   "outputs": [],
   "source": [
    "train_study_level.describe()"
   ]
  },
  {
   "cell_type": "markdown",
   "metadata": {},
   "source": [
    "There are 6054 rows in the train_study_level dataframe. The number of unique values in study dataframe differs from the unique values in the images dataframe. Let's check how many studies have more than 1 image linked."
   ]
  },
  {
   "cell_type": "code",
   "execution_count": null,
   "metadata": {
    "execution": {
     "iopub.execute_input": "2021-06-11T13:59:11.312853Z",
     "iopub.status.busy": "2021-06-11T13:59:11.312463Z",
     "iopub.status.idle": "2021-06-11T13:59:11.348626Z",
     "shell.execute_reply": "2021-06-11T13:59:11.34712Z",
     "shell.execute_reply.started": "2021-06-11T13:59:11.312816Z"
    }
   },
   "outputs": [],
   "source": [
    "train_study_level_key = train_study_level.id.str[:-6]\n",
    "training_set = pd.merge(left = train_study_level, right = train_image_level, how = 'right', left_on = train_study_level_key, right_on = 'StudyInstanceUID')\n",
    "training_set.drop(['id_x'], axis = 1)"
   ]
  },
  {
   "cell_type": "markdown",
   "metadata": {},
   "source": [
    "Let's have a look at these studies with multiple images:"
   ]
  },
  {
   "cell_type": "code",
   "execution_count": null,
   "metadata": {
    "execution": {
     "iopub.execute_input": "2021-06-11T13:59:11.35138Z",
     "iopub.status.busy": "2021-06-11T13:59:11.350736Z",
     "iopub.status.idle": "2021-06-11T13:59:11.389323Z",
     "shell.execute_reply": "2021-06-11T13:59:11.388264Z",
     "shell.execute_reply.started": "2021-06-11T13:59:11.351335Z"
    }
   },
   "outputs": [],
   "source": [
    "training_set[training_set.groupby('StudyInstanceUID')['id_y'].transform('size') > 1].sort_values('StudyInstanceUID')"
   ]
  },
  {
   "cell_type": "markdown",
   "metadata": {},
   "source": [
    "# Read Dicom files"
   ]
  },
  {
   "cell_type": "markdown",
   "metadata": {},
   "source": [
    "Function used to locate image from the path:"
   ]
  },
  {
   "cell_type": "code",
   "execution_count": null,
   "metadata": {
    "execution": {
     "iopub.execute_input": "2021-06-11T13:59:11.393003Z",
     "iopub.status.busy": "2021-06-11T13:59:11.392274Z",
     "iopub.status.idle": "2021-06-11T13:59:11.40023Z",
     "shell.execute_reply": "2021-06-11T13:59:11.398994Z",
     "shell.execute_reply.started": "2021-06-11T13:59:11.392947Z"
    }
   },
   "outputs": [],
   "source": [
    "def extract_image(i):\n",
    "    path_train = path + 'train/' + training_set.loc[i, 'StudyInstanceUID']\n",
    "    last_folder_in_path = os.listdir(path_train)[0]\n",
    "    path_train = path_train + '/{}/'.format(last_folder_in_path)\n",
    "    img_id = training_set.loc[i, 'id_y'].replace('_image','.dcm')\n",
    "    print(img_id)\n",
    "    data_file = dicom.dcmread(path_train + img_id)\n",
    "    img = data_file.pixel_array\n",
    "    return img"
   ]
  },
  {
   "cell_type": "markdown",
   "metadata": {},
   "source": [
    "Images and rectangles visualization"
   ]
  },
  {
   "cell_type": "code",
   "execution_count": null,
   "metadata": {
    "execution": {
     "iopub.execute_input": "2021-06-11T13:59:11.403332Z",
     "iopub.status.busy": "2021-06-11T13:59:11.402866Z",
     "iopub.status.idle": "2021-06-11T13:59:21.275331Z",
     "shell.execute_reply": "2021-06-11T13:59:21.274145Z",
     "shell.execute_reply.started": "2021-06-11T13:59:11.403289Z"
    }
   },
   "outputs": [],
   "source": [
    "fig, axes = plt.subplots(3,3, figsize=(20,16))\n",
    "fig.subplots_adjust(hspace=.1, wspace=.1)\n",
    "axes = axes.ravel()\n",
    "\n",
    "for row in range(9):\n",
    "    img = extract_image(row)\n",
    "    if (training_set.loc[row,'boxes'] == training_set.loc[row,'boxes']):\n",
    "        boxes = ast.literal_eval(training_set.loc[row,'boxes'])\n",
    "        for box in boxes:\n",
    "            p = matplotlib.patches.Rectangle((box['x'], box['y']),\n",
    "                                              box['width'], box['height'],\n",
    "                                              ec = 'r', fc = 'none', lw = 2.\n",
    "                                            )\n",
    "            axes[row].add_patch(p)\n",
    "    axes[row].imshow(img, cmap = 'gray')\n",
    "    axes[row].set_title(training_set.loc[row, 'label'].split(' ')[0])\n",
    "    axes[row].set_xticklabels([])\n",
    "    axes[row].set_yticklabels([])"
   ]
  },
  {
   "cell_type": "markdown",
   "metadata": {},
   "source": [
    "# Feature engineering"
   ]
  },
  {
   "cell_type": "markdown",
   "metadata": {},
   "source": [
    "**Opacity_Count** - Count the number of opacities in the image"
   ]
  },
  {
   "cell_type": "code",
   "execution_count": null,
   "metadata": {
    "execution": {
     "iopub.execute_input": "2021-06-11T13:59:21.277462Z",
     "iopub.status.busy": "2021-06-11T13:59:21.27699Z",
     "iopub.status.idle": "2021-06-11T13:59:21.297251Z",
     "shell.execute_reply": "2021-06-11T13:59:21.296233Z",
     "shell.execute_reply.started": "2021-06-11T13:59:21.277417Z"
    }
   },
   "outputs": [],
   "source": [
    "Opacity_Count = training_set['label'].str.count('opacity')\n",
    "training_set['Opacity_Count'] = Opacity_Count.values"
   ]
  },
  {
   "cell_type": "markdown",
   "metadata": {},
   "source": [
    "**Rectange_Area** - Sum of areas of rectangles - assumption : the bigger the rectangle - the bigger the opacity"
   ]
  },
  {
   "cell_type": "code",
   "execution_count": 1,
   "metadata": {
    "execution": {
     "iopub.execute_input": "2021-06-11T13:59:21.299289Z",
     "iopub.status.busy": "2021-06-11T13:59:21.298698Z",
     "iopub.status.idle": "2021-06-11T13:59:21.711778Z",
     "shell.execute_reply": "2021-06-11T13:59:21.710658Z",
     "shell.execute_reply.started": "2021-06-11T13:59:21.299248Z"
    }
   },
   "outputs": [
    {
     "ename": "NameError",
     "evalue": "name 'training_set' is not defined",
     "output_type": "error",
     "traceback": [
      "\u001b[1;31m---------------------------------------------------------------------------\u001b[0m",
      "\u001b[1;31mNameError\u001b[0m                                 Traceback (most recent call last)",
      "\u001b[1;32m<ipython-input-1-e187081c78c4>\u001b[0m in \u001b[0;36m<module>\u001b[1;34m\u001b[0m\n\u001b[0;32m      4\u001b[0m     \u001b[0mimage_rectangles_area_sum\u001b[0m \u001b[1;33m=\u001b[0m \u001b[1;36m0\u001b[0m\u001b[1;33m\u001b[0m\u001b[1;33m\u001b[0m\u001b[0m\n\u001b[0;32m      5\u001b[0m     \u001b[0mrectangle_area\u001b[0m \u001b[1;33m=\u001b[0m \u001b[1;36m0\u001b[0m\u001b[1;33m\u001b[0m\u001b[1;33m\u001b[0m\u001b[0m\n\u001b[1;32m----> 6\u001b[1;33m     \u001b[1;32mif\u001b[0m \u001b[1;33m(\u001b[0m\u001b[0mtraining_set\u001b[0m\u001b[1;33m.\u001b[0m\u001b[0mloc\u001b[0m\u001b[1;33m[\u001b[0m\u001b[0mrow\u001b[0m\u001b[1;33m,\u001b[0m\u001b[1;34m'boxes'\u001b[0m\u001b[1;33m]\u001b[0m \u001b[1;33m==\u001b[0m \u001b[0mtraining_set\u001b[0m\u001b[1;33m.\u001b[0m\u001b[0mloc\u001b[0m\u001b[1;33m[\u001b[0m\u001b[0mrow\u001b[0m\u001b[1;33m,\u001b[0m\u001b[1;34m'boxes'\u001b[0m\u001b[1;33m]\u001b[0m\u001b[1;33m)\u001b[0m\u001b[1;33m:\u001b[0m\u001b[1;33m\u001b[0m\u001b[1;33m\u001b[0m\u001b[0m\n\u001b[0m\u001b[0;32m      7\u001b[0m         \u001b[0mboxes\u001b[0m \u001b[1;33m=\u001b[0m \u001b[0mast\u001b[0m\u001b[1;33m.\u001b[0m\u001b[0mliteral_eval\u001b[0m\u001b[1;33m(\u001b[0m\u001b[0mtraining_set\u001b[0m\u001b[1;33m.\u001b[0m\u001b[0mloc\u001b[0m\u001b[1;33m[\u001b[0m\u001b[0mrow\u001b[0m\u001b[1;33m,\u001b[0m\u001b[1;34m'boxes'\u001b[0m\u001b[1;33m]\u001b[0m\u001b[1;33m)\u001b[0m\u001b[1;33m\u001b[0m\u001b[1;33m\u001b[0m\u001b[0m\n\u001b[0;32m      8\u001b[0m         \u001b[1;32mfor\u001b[0m \u001b[0mbox\u001b[0m \u001b[1;32min\u001b[0m \u001b[0mboxes\u001b[0m\u001b[1;33m:\u001b[0m\u001b[1;33m\u001b[0m\u001b[1;33m\u001b[0m\u001b[0m\n",
      "\u001b[1;31mNameError\u001b[0m: name 'training_set' is not defined"
     ]
    }
   ],
   "source": [
    "image_rectangles_areas = []\n",
    "\n",
    "for row in range(6334):#len(training_set.index)):\n",
    "    image_rectangles_area_sum = 0\n",
    "    rectangle_area = 0\n",
    "    if (training_set.loc[row,'boxes'] == training_set.loc[row,'boxes']):\n",
    "        boxes = ast.literal_eval(training_set.loc[row,'boxes'])\n",
    "        for box in boxes:\n",
    "            rectangle_area = box['width'] * box['height']\n",
    "            image_rectangles_area_sum = image_rectangles_area_sum + rectangle_area\n",
    "        image_rectangles_areas.append(image_rectangles_area_sum)\n",
    "    else:\n",
    "        image_rectangles_area_sum = image_rectangles_area_sum + rectangle_area\n",
    "        image_rectangles_areas.append(image_rectangles_area_sum)\n",
    "        "
   ]
  },
  {
   "cell_type": "code",
   "execution_count": null,
   "metadata": {
    "execution": {
     "iopub.execute_input": "2021-06-11T13:59:21.71378Z",
     "iopub.status.busy": "2021-06-11T13:59:21.713321Z",
     "iopub.status.idle": "2021-06-11T13:59:21.722474Z",
     "shell.execute_reply": "2021-06-11T13:59:21.720984Z",
     "shell.execute_reply.started": "2021-06-11T13:59:21.71373Z"
    }
   },
   "outputs": [],
   "source": [
    "training_set['Rectangle_Area'] = image_rectangles_areas"
   ]
  },
  {
   "cell_type": "markdown",
   "metadata": {},
   "source": [
    "Creating buckets - rectangle areas"
   ]
  },
  {
   "cell_type": "markdown",
   "metadata": {},
   "source": [
    "First see the distribution of the rectangle areas"
   ]
  },
  {
   "cell_type": "code",
   "execution_count": null,
   "metadata": {
    "execution": {
     "iopub.execute_input": "2021-06-11T13:59:21.724356Z",
     "iopub.status.busy": "2021-06-11T13:59:21.723713Z",
     "iopub.status.idle": "2021-06-11T13:59:21.737477Z",
     "shell.execute_reply": "2021-06-11T13:59:21.7365Z",
     "shell.execute_reply.started": "2021-06-11T13:59:21.724297Z"
    }
   },
   "outputs": [],
   "source": [
    "training_set['Rectangle_Area'] = round(training_set['Rectangle_Area'],2)"
   ]
  },
  {
   "cell_type": "code",
   "execution_count": null,
   "metadata": {
    "execution": {
     "iopub.execute_input": "2021-06-11T13:59:21.742608Z",
     "iopub.status.busy": "2021-06-11T13:59:21.742209Z",
     "iopub.status.idle": "2021-06-11T13:59:21.754122Z",
     "shell.execute_reply": "2021-06-11T13:59:21.752826Z",
     "shell.execute_reply.started": "2021-06-11T13:59:21.74258Z"
    }
   },
   "outputs": [],
   "source": [
    "training_set['Rectangle_Area']"
   ]
  },
  {
   "cell_type": "code",
   "execution_count": null,
   "metadata": {
    "execution": {
     "iopub.execute_input": "2021-06-11T13:59:21.757157Z",
     "iopub.status.busy": "2021-06-11T13:59:21.756531Z",
     "iopub.status.idle": "2021-06-11T13:59:21.768486Z",
     "shell.execute_reply": "2021-06-11T13:59:21.767372Z",
     "shell.execute_reply.started": "2021-06-11T13:59:21.757095Z"
    }
   },
   "outputs": [],
   "source": [
    "#pd.qcut(training_set['Rectangle_Area'], q = 4)\n",
    "\n",
    "#training_set.boxplot(by = \"Negative for Pneumonia\",column = ['Rectangle_Area'],grid = True, layout=(1, 1))\n",
    "\n",
    "cut_labels_4 = ['0', '<1e6', '<2e6', '<4e6', '<8e6']\n",
    "cut_bins = [-1, 0, 1000000, 2000000, 4000000, 8000000]\n",
    "training_set['Rectangle_Area_Bin'] = pd.cut(training_set['Rectangle_Area'], bins=cut_bins, labels=cut_labels_4)"
   ]
  },
  {
   "cell_type": "code",
   "execution_count": null,
   "metadata": {
    "execution": {
     "iopub.execute_input": "2021-06-11T13:59:21.772775Z",
     "iopub.status.busy": "2021-06-11T13:59:21.772358Z",
     "iopub.status.idle": "2021-06-11T13:59:22.495343Z",
     "shell.execute_reply": "2021-06-11T13:59:22.493991Z",
     "shell.execute_reply.started": "2021-06-11T13:59:21.772747Z"
    }
   },
   "outputs": [],
   "source": [
    "columns = ['Negative for Pneumonia', 'Typical Appearance', 'Indeterminate Appearance', 'Atypical Appearance']\n",
    "\n",
    "plt.figure(figsize = (16, 14))\n",
    "sn.set(font_scale = 1.2)\n",
    "sn.set_style('ticks')\n",
    "\n",
    "for i, column in enumerate(columns):\n",
    "    plt.subplot(3, 3, i + 1)\n",
    "    sn.countplot(data = training_set, x = 'Rectangle_Area_Bin', hue = column, palette = ['#d02f52',\"#55a0ee\"])\n",
    "    \n",
    "sn.despine()"
   ]
  },
  {
   "cell_type": "code",
   "execution_count": null,
   "metadata": {
    "execution": {
     "iopub.execute_input": "2021-06-11T13:59:22.497737Z",
     "iopub.status.busy": "2021-06-11T13:59:22.497313Z",
     "iopub.status.idle": "2021-06-11T13:59:23.223401Z",
     "shell.execute_reply": "2021-06-11T13:59:23.222102Z",
     "shell.execute_reply.started": "2021-06-11T13:59:22.497698Z"
    }
   },
   "outputs": [],
   "source": [
    "#columns = ['Negative for Pneumonia', 'Typical Appearance', 'Indeterminate Appearance', 'Atypical Appearance']\n",
    "opacity = sorted(list(training_set['Rectangle_Area_Bin'].value_counts().index))\n",
    "\n",
    "for i in opacity:\n",
    "    Count_Series = training_set[training_set['Rectangle_Area_Bin'] == i].iloc[:,[1, 2, 3, 4]].sum()\n",
    "    fig = plt.figure(figsize=(12,3))\n",
    "    sn.barplot(x = Count_Series.index, y = Count_Series.values/sum(training_set['Rectangle_Area_Bin'] == i))\n",
    "    plt.title('Rectangle_Area_Bin : {} '.format(i))\n",
    "    plt.plot()"
   ]
  },
  {
   "cell_type": "markdown",
   "metadata": {},
   "source": [
    "Rectangle area and opacity count"
   ]
  },
  {
   "cell_type": "code",
   "execution_count": null,
   "metadata": {
    "execution": {
     "iopub.execute_input": "2021-06-11T13:59:23.225596Z",
     "iopub.status.busy": "2021-06-11T13:59:23.225124Z",
     "iopub.status.idle": "2021-06-11T13:59:24.349022Z",
     "shell.execute_reply": "2021-06-11T13:59:24.347776Z",
     "shell.execute_reply.started": "2021-06-11T13:59:23.225543Z"
    }
   },
   "outputs": [],
   "source": [
    "#columns = ['Negative for Pneumonia', 'Typical Appearance', 'Indeterminate Appearance', 'Atypical Appearance']\n",
    "opacity = sorted(list(training_set['Opacity_Count'].value_counts().index))\n",
    "\n",
    "for i in opacity:\n",
    "    Count_Series = training_set[training_set['Opacity_Count'] == i].iloc[:,[1, 2, 3, 4]].sum()\n",
    "    fig = plt.figure(figsize=(12,3))\n",
    "    sn.barplot(x = Count_Series.index, y = Count_Series.values/sum(training_set['Opacity_Count'] == i))\n",
    "    plt.title('OpacityCount : {} '.format(i))\n",
    "    plt.plot()"
   ]
  },
  {
   "cell_type": "markdown",
   "metadata": {},
   "source": [
    "**TBD**: Position of the rectangle by quadrants (4 bins - 4 quadrants)"
   ]
  },
  {
   "cell_type": "code",
   "execution_count": null,
   "metadata": {},
   "outputs": [],
   "source": []
  },
  {
   "cell_type": "markdown",
   "metadata": {},
   "source": [
    "**Image metadata**"
   ]
  },
  {
   "cell_type": "code",
   "execution_count": 2,
   "metadata": {
    "execution": {
     "iopub.execute_input": "2021-06-11T13:59:24.351402Z",
     "iopub.status.busy": "2021-06-11T13:59:24.350951Z",
     "iopub.status.idle": "2021-06-11T13:59:50.363476Z",
     "shell.execute_reply": "2021-06-11T13:59:50.362236Z",
     "shell.execute_reply.started": "2021-06-11T13:59:24.351359Z"
    }
   },
   "outputs": [
    {
     "ename": "NameError",
     "evalue": "name 'tqdm' is not defined",
     "output_type": "error",
     "traceback": [
      "\u001b[1;31m---------------------------------------------------------------------------\u001b[0m",
      "\u001b[1;31mNameError\u001b[0m                                 Traceback (most recent call last)",
      "\u001b[1;32m<ipython-input-2-2cff8d9030e1>\u001b[0m in \u001b[0;36m<module>\u001b[1;34m\u001b[0m\n\u001b[0;32m      2\u001b[0m \u001b[0mtrain_directory\u001b[0m \u001b[1;33m=\u001b[0m \u001b[1;34m\"../input/siim-covid19-detection/train/\"\u001b[0m\u001b[1;33m\u001b[0m\u001b[1;33m\u001b[0m\u001b[0m\n\u001b[0;32m      3\u001b[0m \u001b[1;33m\u001b[0m\u001b[0m\n\u001b[1;32m----> 4\u001b[1;33m \u001b[1;32mfor\u001b[0m \u001b[0msid\u001b[0m \u001b[1;32min\u001b[0m \u001b[0mtqdm\u001b[0m\u001b[1;33m(\u001b[0m\u001b[0mtraining_set\u001b[0m\u001b[1;33m[\u001b[0m\u001b[1;34m'StudyInstanceUID'\u001b[0m\u001b[1;33m]\u001b[0m\u001b[1;33m)\u001b[0m\u001b[1;33m:\u001b[0m\u001b[1;33m\u001b[0m\u001b[1;33m\u001b[0m\u001b[0m\n\u001b[0m\u001b[0;32m      5\u001b[0m     \u001b[0mtraining_paths\u001b[0m\u001b[1;33m.\u001b[0m\u001b[0mappend\u001b[0m\u001b[1;33m(\u001b[0m\u001b[0mglob\u001b[0m\u001b[1;33m.\u001b[0m\u001b[0mglob\u001b[0m\u001b[1;33m(\u001b[0m\u001b[0mos\u001b[0m\u001b[1;33m.\u001b[0m\u001b[0mpath\u001b[0m\u001b[1;33m.\u001b[0m\u001b[0mjoin\u001b[0m\u001b[1;33m(\u001b[0m\u001b[0mtrain_directory\u001b[0m\u001b[1;33m,\u001b[0m \u001b[0msid\u001b[0m\u001b[1;33m)\u001b[0m\u001b[1;33m)\u001b[0m\u001b[1;33m[\u001b[0m\u001b[1;36m0\u001b[0m\u001b[1;33m]\u001b[0m\u001b[1;33m)\u001b[0m\u001b[1;33m\u001b[0m\u001b[1;33m\u001b[0m\u001b[0m\n\u001b[0;32m      6\u001b[0m \u001b[1;33m\u001b[0m\u001b[0m\n",
      "\u001b[1;31mNameError\u001b[0m: name 'tqdm' is not defined"
     ]
    }
   ],
   "source": [
    "training_paths = []\n",
    "train_directory = \"../input/siim-covid19-detection/train/\"\n",
    "\n",
    "for sid in tqdm(training_set['StudyInstanceUID']):\n",
    "    training_paths.append(glob.glob(os.path.join(train_directory, sid +\"/*/*\"))[0])\n",
    "\n",
    "training_set['path'] = training_paths"
   ]
  },
  {
   "cell_type": "markdown",
   "metadata": {},
   "source": [
    "The pixel values are in the range of 0 to 255. It is easier for us to normalize the data between 0 to 1 and we can do that just by dividing our train and test set by 255."
   ]
  },
  {
   "cell_type": "code",
   "execution_count": null,
   "metadata": {
    "execution": {
     "iopub.execute_input": "2021-06-11T13:59:50.365698Z",
     "iopub.status.busy": "2021-06-11T13:59:50.365266Z",
     "iopub.status.idle": "2021-06-11T13:59:50.380907Z",
     "shell.execute_reply": "2021-06-11T13:59:50.379499Z",
     "shell.execute_reply.started": "2021-06-11T13:59:50.365657Z"
    }
   },
   "outputs": [],
   "source": [
    "voi_lut=True\n",
    "fix_monochrome=True\n",
    "\n",
    "def dicom_dataset_to_dict(filename,func):\n",
    "    \"\"\"Credit: https://github.com/pydicom/pydicom/issues/319\n",
    "               https://www.kaggle.com/raddar/convert-dicom-to-np-array-the-correct-way\n",
    "    \"\"\"\n",
    "    \n",
    "    dicom_header = dicom.dcmread(filename) \n",
    "    \n",
    "    #====== DICOM FILE DATA ======\n",
    "    dicom_dict = {}\n",
    "    repr(dicom_header)\n",
    "    for dicom_value in dicom_header.values():\n",
    "        if dicom_value.tag == (0x7fe0, 0x0010):\n",
    "            #discard pixel data\n",
    "            continue\n",
    "        if type(dicom_value.value) == dicom.dataset.Dataset:\n",
    "            dicom_dict[dicom_value.name] = dicom_dataset_to_dict(dicom_value.value)\n",
    "        else:\n",
    "            v = _convert_value(dicom_value.value)\n",
    "            dicom_dict[dicom_value.name] = v\n",
    "      \n",
    "    del dicom_dict['Pixel Representation']\n",
    "    \n",
    "    if func != 'metadata_df':\n",
    "        #====== DICOM IMAGE DATA ======\n",
    "        # VOI LUT (if available by DICOM device) is used to transform raw DICOM data to \"human-friendly\" view\n",
    "        if voi_lut:\n",
    "            data = apply_voi_lut(dicom_header.pixel_array, dicom_header)\n",
    "        else:\n",
    "            data = dicom_header.pixel_array\n",
    "        # depending on this value, X-ray may look inverted - fix that:\n",
    "        if fix_monochrome and dicom_header.PhotometricInterpretation == \"MONOCHROME1\":\n",
    "            data = np.amax(data) - data\n",
    "        data = data - np.min(data)\n",
    "        data = data / np.max(data)\n",
    "        modified_image_data = (data * 255).astype(np.uint8)\n",
    "    \n",
    "        return dicom_dict, modified_image_data\n",
    "    \n",
    "    else:\n",
    "        return dicom_dict\n",
    "\n",
    "def _sanitise_unicode(s):\n",
    "    return s.replace(u\"\\u0000\", \"\").strip()\n",
    "\n",
    "def _convert_value(v):\n",
    "    t = type(v)\n",
    "    if t in (list, int, float):\n",
    "        cv = v\n",
    "    elif t == str:\n",
    "        cv = _sanitise_unicode(v)\n",
    "    elif t == bytes:\n",
    "        s = v.decode('ascii', 'replace')\n",
    "        cv = _sanitise_unicode(s)\n",
    "    elif t == dicom.valuerep.DSfloat:\n",
    "        cv = float(v)\n",
    "    elif t == dicom.valuerep.IS:\n",
    "        cv = int(v)\n",
    "    else:\n",
    "        cv = repr(v)\n",
    "    return cv\n",
    "\n"
   ]
  },
  {
   "cell_type": "markdown",
   "metadata": {},
   "source": [
    "Getting the dictionary data to the dataframe and dropping the columns not needed"
   ]
  },
  {
   "cell_type": "code",
   "execution_count": null,
   "metadata": {
    "_kg_hide-output": true,
    "execution": {
     "iopub.execute_input": "2021-06-11T13:59:50.383585Z",
     "iopub.status.busy": "2021-06-11T13:59:50.382914Z",
     "iopub.status.idle": "2021-06-11T14:16:30.773119Z",
     "shell.execute_reply": "2021-06-11T14:16:30.771968Z",
     "shell.execute_reply.started": "2021-06-11T13:59:50.383546Z"
    }
   },
   "outputs": [],
   "source": [
    "metadata = []\n",
    "\n",
    "for filename in training_set.path:\n",
    "    try:\n",
    "        data_di = dicom_dataset_to_dict(filename,'metadata_df')\n",
    "        metadata.append(data_di)\n",
    "    except:\n",
    "        continue\n",
    "\n",
    "dicom_data_df = pd.DataFrame(metadata)"
   ]
  },
  {
   "cell_type": "code",
   "execution_count": null,
   "metadata": {
    "execution": {
     "iopub.execute_input": "2021-06-11T14:16:30.775152Z",
     "iopub.status.busy": "2021-06-11T14:16:30.774698Z",
     "iopub.status.idle": "2021-06-11T14:16:30.810095Z",
     "shell.execute_reply": "2021-06-11T14:16:30.808849Z",
     "shell.execute_reply.started": "2021-06-11T14:16:30.775098Z"
    }
   },
   "outputs": [],
   "source": [
    "dicom_data_df.head()"
   ]
  },
  {
   "cell_type": "code",
   "execution_count": null,
   "metadata": {
    "execution": {
     "iopub.execute_input": "2021-06-11T14:16:30.812504Z",
     "iopub.status.busy": "2021-06-11T14:16:30.811793Z",
     "iopub.status.idle": "2021-06-11T14:16:30.860524Z",
     "shell.execute_reply": "2021-06-11T14:16:30.859218Z",
     "shell.execute_reply.started": "2021-06-11T14:16:30.812458Z"
    }
   },
   "outputs": [],
   "source": [
    "dicom_data_df.drop(['Specific Character Set', 'SOP Class UID','SOP Instance UID','Study Date','Study Time','Accession Number','Patient ID','Accession Number','Rows','Columns'], axis=1)"
   ]
  },
  {
   "cell_type": "markdown",
   "metadata": {},
   "source": [
    "Get the metadata information as new columns in an existing dataframe"
   ]
  },
  {
   "cell_type": "code",
   "execution_count": null,
   "metadata": {
    "execution": {
     "iopub.execute_input": "2021-06-11T14:16:30.863027Z",
     "iopub.status.busy": "2021-06-11T14:16:30.862155Z",
     "iopub.status.idle": "2021-06-11T14:16:30.950868Z",
     "shell.execute_reply": "2021-06-11T14:16:30.949864Z",
     "shell.execute_reply.started": "2021-06-11T14:16:30.862968Z"
    }
   },
   "outputs": [],
   "source": [
    "training_set_merged = pd.merge(left = training_set, right = dicom_data_df, how = 'left', left_on = 'StudyInstanceUID', right_on = 'Study Instance UID')\n",
    "training_set_merged"
   ]
  },
  {
   "cell_type": "markdown",
   "metadata": {},
   "source": [
    "**TBD**: Outliers and irregularities in the data"
   ]
  },
  {
   "cell_type": "markdown",
   "metadata": {},
   "source": [
    "# Making the model"
   ]
  },
  {
   "cell_type": "markdown",
   "metadata": {},
   "source": [
    "EfficientNet is used:\n",
    "\n",
    "The EfficientNet scaling method uniformly scales network width, depth, and resolution with a set of fixed scaling coefficients. For example, if we want to use  times more computational resources, then we can simply increase the network depth by , width by , and image size by , where  are constant coefficients determined by a small grid search on the original small model.\n",
    "\n",
    "The compound scaling method is justified by the intuition that if the input image is bigger, then the network needs more layers to increase the receptive field and more channels to capture more fine-grained patterns on the bigger image.\n",
    "\n",
    "The base EfficientNet-B0 network is based on the inverted bottleneck residual blocks of MobileNetV2, in addition to squeeze-and-excitation blocks."
   ]
  },
  {
   "cell_type": "code",
   "execution_count": null,
   "metadata": {},
   "outputs": [],
   "source": [
    "# The only thing that needs to be declared inside is model creation. \n",
    "# If you use use Keras .fit() instead of custom training then model.compile() has to be inside as well.\n",
    "with strategy.scope():"
   ]
  },
  {
   "cell_type": "markdown",
   "metadata": {},
   "source": [
    "# Compiling the model"
   ]
  },
  {
   "cell_type": "code",
   "execution_count": null,
   "metadata": {},
   "outputs": [],
   "source": []
  },
  {
   "cell_type": "markdown",
   "metadata": {},
   "source": [
    "# References\n",
    "\n",
    "* https://github.com/pydicom/pydicom/issues/319\n",
    "* https://www.kaggle.com/songseungwon/siim-covid-19-detection-10-step-tutorial-1\n",
    "* https://www.kaggle.com/ruchi798/siim-covid-19-detection-eda-data-augmentation#DICOM-data"
   ]
  }
 ],
 "metadata": {
  "kernelspec": {
   "display_name": "Python 3",
   "language": "python",
   "name": "python3"
  },
  "language_info": {
   "codemirror_mode": {
    "name": "ipython",
    "version": 3
   },
   "file_extension": ".py",
   "mimetype": "text/x-python",
   "name": "python",
   "nbconvert_exporter": "python",
   "pygments_lexer": "ipython3",
   "version": "3.7.9"
  }
 },
 "nbformat": 4,
 "nbformat_minor": 4
}
